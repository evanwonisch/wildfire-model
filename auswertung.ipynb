{
 "cells": [
  {
   "cell_type": "code",
   "execution_count": 8,
   "id": "accurate-interim",
   "metadata": {},
   "outputs": [],
   "source": [
    "import numpy as np\n",
    "from matplotlib import pyplot as plt\n",
    "from PIL import Image\n",
    "import utility.io_utility as io\n",
    "\n",
    "result = io.read(\"data/result_output\")"
   ]
  },
  {
   "cell_type": "code",
   "execution_count": 9,
   "id": "international-surrey",
   "metadata": {},
   "outputs": [],
   "source": [
    "# Anzahl verbrannter Zellen mit der Zeit\n",
    "def start_burn():\n",
    "    time = np.arange(result[:,0,0,0].size)\n",
    "    row = np.arange(result[0,:,0,0].size)\n",
    "    column = np.arange(result[0,0,:,0].size)\n",
    "    output = np.zeros((1,time.size))\n",
    "    newburn = np.zeros((1,time.size))\n",
    "    \n",
    "    for t in time:\n",
    "        x = 0\n",
    "        for r in row:\n",
    "            for c in column:\n",
    "                if result[t,r,c,1] == 1 or result[t,r,c,1] == 2:\n",
    "                    x += 1\n",
    "        output[0,t] = x\n",
    "        \n",
    "    for t in range (0, time.size - 1):\n",
    "        newburn[0,t+1]= output[0,t+1] - output[0,t]\n",
    "    return newburn"
   ]
  },
  {
   "cell_type": "code",
   "execution_count": 11,
   "id": "talented-percentage",
   "metadata": {},
   "outputs": [],
   "source": [
    "def plot_speed():\n",
    "    x = np.arange(result[:,0,0,0].size)\n",
    "    y = start_burn()[0,:]\n",
    "    \n",
    "    \n",
    "    plt.plot(x, y, \"C0\", label = \"Model\")\n",
    "    \n",
    "    \n",
    "    plt.xlabel(\"Zeit [h^-1]\")\n",
    "    plt.ylabel(\"Verbrannte Fläche pro Zeit [m^2/Stunde]\")\n",
    "    plt.legend()\n",
    "    plt.grid()"
   ]
  }
 ],
 "metadata": {
  "kernelspec": {
   "display_name": "Python 3",
   "language": "python",
   "name": "python3"
  },
  "language_info": {
   "codemirror_mode": {
    "name": "ipython",
    "version": 3
   },
   "file_extension": ".py",
   "mimetype": "text/x-python",
   "name": "python",
   "nbconvert_exporter": "python",
   "pygments_lexer": "ipython3",
   "version": "3.6.12"
  }
 },
 "nbformat": 4,
 "nbformat_minor": 5
}
