{
 "cells": [
  {
   "cell_type": "code",
   "execution_count": 1,
   "metadata": {},
   "outputs": [],
   "source": [
    "import numpy as np\n",
    "from matplotlib import pyplot as plt\n",
    "from src.FireFramework import * # importieren des Frameworks\n",
    "from PIL import Image\n",
    "\n",
    "import utility.animation_utility as anim\n",
    "import utility.io_utility as io"
   ]
  },
  {
   "cell_type": "markdown",
   "metadata": {},
   "source": [
    "# Modelldefinition"
   ]
  },
  {
   "cell_type": "code",
   "execution_count": 2,
   "metadata": {},
   "outputs": [],
   "source": [
    "def dot(a,b):\n",
    "    return a[0]*b[0]+a[1]*b[1]"
   ]
  },
  {
   "cell_type": "code",
   "execution_count": 3,
   "metadata": {},
   "outputs": [],
   "source": [
    "# Liste der pro Zelle zu speichernden Werte\n",
    "params = [\"fuel\", \"fire\", \"windx\", \"windy\", \"height\", \"burned\"]\n",
    "\n",
    "# Relativvektoren der zu betrachtenen Nachbarn\n",
    "relative_neighbours = [(-1,0),(1,0),(0,1),(0,-1),(-1,1),(1,1),(-1,-1),(1,-1)] "
   ]
  },
  {
   "cell_type": "code",
   "execution_count": 4,
   "metadata": {},
   "outputs": [],
   "source": [
    "def transition(cellState, neighbourStates, returnState):\n",
    "    \n",
    "    #Parameter der Nachbarn:\n",
    "    slope = []\n",
    "    rel_wind = []\n",
    "    neighbour_fire = []\n",
    "\n",
    "    #Vorbereitung der Werte der Nachbarn\n",
    "    for n in neighbourStates:\n",
    "        slope.append(np.tanh(n.getParam(\"height\") - cellState.getParam(\"height\")))\n",
    "        wind = (n.getParam(\"windx\"), n.getParam(\"windy\"))\n",
    "        rel_wind.append(np.tanh(dot(wind, n.getRelativeVector())))\n",
    "        neighbour_fire.append(n.getParam(\"fire\"))    \n",
    "\n",
    "    #Konvertieren zu numpy arrays\n",
    "    slope = np.array(slope)\n",
    "    rel_wind = np.array(rel_wind)\n",
    "    neighbour_fire = np.array(neighbour_fire)\n",
    "\n",
    "    #Wahrscheinlichkeiten berechnen\n",
    "\n",
    "    slope_coeff = - np.sum(neighbour_fire * slope)\n",
    "    wind_coeff = - np.sum(neighbour_fire * rel_wind)\n",
    "    \n",
    "    p_burn = 1/8 * np.sum(neighbour_fire) + 0.05 * slope_coeff + 0.1 * wind_coeff\n",
    "    p_burn *= cellState.getParam(\"fuel\")\n",
    "    \n",
    "    p_stop = (1 - cellState.getParam(\"fuel\")) ** 8  #Erlöschen bei wenig Brennwert\n",
    "    \n",
    "    #Wahrscheinlichkeiten umsetzen\n",
    "    \n",
    "    \n",
    "    if p_burn >= np.random.uniform():\n",
    "        returnState.setParam(\"fire\", 1)\n",
    "    \n",
    "    if cellState.getParam(\"fire\") == 1:\n",
    "        if p_stop >= np.random.uniform():\n",
    "            returnState.setParam(\"fire\", 0)\n",
    "            returnState.setParam(\"burned\", 1)\n",
    "    \n",
    "\n",
    "\n",
    "        \n",
    "    returnState.addToParam(\"fuel\", -0.05*cellState.getParam(\"fire\")) # Verringerung des Brennwerts\n",
    "    if returnState.getParam(\"fuel\") < 0:\n",
    "        returnState.setParam(\"fuel\", 0)"
   ]
  },
  {
   "cell_type": "markdown",
   "metadata": {},
   "source": [
    "## Startwerte definieren"
   ]
  },
  {
   "cell_type": "code",
   "execution_count": 5,
   "metadata": {},
   "outputs": [
    {
     "data": {
      "text/plain": [
       "'\\ndef initial_field(row, col):\\n    fuel = 0.99\\n    burn = 0\\n    burned = 0\\n    if row == 24 and col == 24: burn = 1\\n    \\n    height = 0\\n    windx = 0\\n    windy = 0\\n    \\n    return [fuel, burn, windx, windy, height, burned] # Hier der Anfangswert-return\\n    \\n'"
      ]
     },
     "execution_count": 5,
     "metadata": {},
     "output_type": "execute_result"
    }
   ],
   "source": [
    "\n",
    "\"\"\"\n",
    "def initial_field(row, col):\n",
    "    fuel = 0.99\n",
    "    burn = 0\n",
    "    burned = 0\n",
    "    if row == 24 and col == 24: burn = 1\n",
    "    \n",
    "    height = 0\n",
    "    windx = 0\n",
    "    windy = 0\n",
    "    \n",
    "    return [fuel, burn, windx, windy, height, burned] # Hier der Anfangswert-return\n",
    "    \n",
    "\"\"\""
   ]
  },
  {
   "cell_type": "code",
   "execution_count": 6,
   "metadata": {},
   "outputs": [],
   "source": [
    "def var_fuel(size, N, start, stop, incr):\n",
    "    def initial_field(row, col):\n",
    "        fuel = pfuel\n",
    "        burn = 0\n",
    "        burned = 0\n",
    "        if row == size/2-1 and col == size/2-1: burn = 1\n",
    "    \n",
    "        height = 0\n",
    "        windx = 0\n",
    "        windy = 0\n",
    "    \n",
    "        return [fuel, burn, windx, windy, height, burned] # Hier der Anfangswert-return\n",
    "    \n",
    "    \n",
    "    result = []\n",
    "\n",
    "    pfuel = start\n",
    "    while pfuel <= stop:\n",
    "        \n",
    "        # Hier wird das Gitter erzeugt und die oben definierten Parameter übergeben..\n",
    "        g = Grid(size, size, params, relative_neighbours, transition, initial_field)\n",
    "        \n",
    "        # Läuft mehrere Iterationen durch und gibt das ganze Feld (mit zeitlicher Entwicklung) zurück.\n",
    "        result.append(g.runModel(N))\n",
    "        \n",
    "        pfuel = pfuel + incr\n",
    "        \n",
    "    return result"
   ]
  },
  {
   "cell_type": "code",
   "execution_count": 7,
   "metadata": {},
   "outputs": [],
   "source": [
    "def var_windx(size, N, start, stop, incr):\n",
    "    def initial_field(row, col):\n",
    "        fuel = 0.99\n",
    "        burn = 0\n",
    "        burned = 0\n",
    "        if row == size/2-1 and col == size/2-1: burn = 1\n",
    "    \n",
    "        height = 0\n",
    "        windx = pwindx\n",
    "        windy = 0\n",
    "    \n",
    "        return [fuel, burn, windx, windy, height, burned] # Hier der Anfangswert-return\n",
    "    \n",
    "    \n",
    "    result = []\n",
    "\n",
    "    pwindx = start\n",
    "    while pwindx <= stop:\n",
    "        \n",
    "        # Hier wird das Gitter erzeugt und die oben definierten Parameter übergeben..\n",
    "        g = Grid(size, size, params, relative_neighbours, transition, initial_field)\n",
    "        \n",
    "        # Läuft mehrere Iterationen durch und gibt das ganze Feld (mit zeitlicher Entwicklung) zurück.\n",
    "        result.append(g.runModel(N))\n",
    "        \n",
    "        pwindx = pwindx + incr\n",
    "        \n",
    "    return result"
   ]
  },
  {
   "cell_type": "code",
   "execution_count": 8,
   "metadata": {},
   "outputs": [],
   "source": [
    "def var_windy(size, N, start, stop, incr):\n",
    "    def initial_field(row, col):\n",
    "        fuel = 0.99\n",
    "        burn = 0\n",
    "        burned = 0\n",
    "        if row == size/2-1 and col == size/2-1: burn = 1\n",
    "    \n",
    "        height = 0\n",
    "        windx = 0\n",
    "        windy = pwindy\n",
    "    \n",
    "        return [fuel, burn, windx, windy, height, burned] # Hier der Anfangswert-return\n",
    "    \n",
    "    \n",
    "    result = []\n",
    "\n",
    "    pwindy = start\n",
    "    while pwindy <= stop:\n",
    "        \n",
    "        # Hier wird das Gitter erzeugt und die oben definierten Parameter übergeben..\n",
    "        g = Grid(size, size, params, relative_neighbours, transition, initial_field)\n",
    "        \n",
    "        # Läuft mehrere Iterationen durch und gibt das ganze Feld (mit zeitlicher Entwicklung) zurück.\n",
    "        result.append(g.runModel(N))\n",
    "        \n",
    "        pwindy = pwindy + incr\n",
    "        \n",
    "    return result"
   ]
  },
  {
   "cell_type": "code",
   "execution_count": 9,
   "metadata": {},
   "outputs": [],
   "source": [
    "def var_slope(size, N, start, stop, incr):\n",
    "    def initial_field(row, col):\n",
    "        fuel = 0.99\n",
    "        burn = 0\n",
    "        burned = 0\n",
    "        if row == size/2-1 and col == size/2-1: burn = 1\n",
    "    \n",
    "        height = slope*row\n",
    "        \n",
    "        \n",
    "        windx = 0\n",
    "        windy = 0\n",
    "    \n",
    "        return [fuel, burn, windx, windy, height, burned] # Hier der Anfangswert-return\n",
    "    \n",
    "    \n",
    "    result = []\n",
    "\n",
    "    slope = start\n",
    "    while slope <= stop:\n",
    "        \n",
    "        # Hier wird das Gitter erzeugt und die oben definierten Parameter übergeben..\n",
    "        g = Grid(size, size, params, relative_neighbours, transition, initial_field)\n",
    "        \n",
    "        # Läuft mehrere Iterationen durch und gibt das ganze Feld (mit zeitlicher Entwicklung) zurück.\n",
    "        result.append(g.runModel(N))\n",
    "        \n",
    "        slope = slope + incr\n",
    "        \n",
    "    return result"
   ]
  },
  {
   "cell_type": "markdown",
   "metadata": {},
   "source": [
    "### Modell auswerten"
   ]
  },
  {
   "cell_type": "code",
   "execution_count": 10,
   "metadata": {},
   "outputs": [],
   "source": [
    "# Nimmt ein numpy-array an welches zb. durch g.runModel() erzeugt wird.\n",
    "# Zeichnet das Feld auf bekannte Weise unter angabe des zeitindex.\n",
    "def drawImage(field,index):\n",
    "    plt.imshow(np.stack([field[index,:,:,1],field[index,:,:,0],np.zeros(shape = (field.shape[1], field.shape[2]))], axis = 2))"
   ]
  },
  {
   "cell_type": "code",
   "execution_count": 11,
   "metadata": {},
   "outputs": [],
   "source": [
    "# Läuft mehrere Iterationen durch und gibt das ganze Feld (mit zeitlicher Entwicklung) zurück.\n",
    "#N = 10\n",
    "#result = g.runModel(N)"
   ]
  },
  {
   "cell_type": "code",
   "execution_count": 12,
   "metadata": {},
   "outputs": [],
   "source": [
    "# save data:\n",
    "path = \"data/result_output_vari\""
   ]
  },
  {
   "cell_type": "code",
   "execution_count": 13,
   "metadata": {},
   "outputs": [
    {
     "name": "stdout",
     "output_type": "stream",
     "text": [
      "5%\n",
      "15%\n",
      "25%\n",
      "35%\n",
      "45%\n",
      "55%\n",
      "65%\n",
      "75%\n",
      "85%\n",
      "95%\n",
      "5%\n",
      "15%\n",
      "25%\n",
      "35%\n",
      "45%\n",
      "55%\n",
      "65%\n",
      "75%\n",
      "85%\n",
      "95%\n",
      "5%\n",
      "15%\n",
      "25%\n",
      "35%\n",
      "45%\n",
      "55%\n",
      "65%\n",
      "75%\n",
      "85%\n",
      "95%\n"
     ]
    }
   ],
   "source": [
    "io.write(var_windx(20, 20, 0, 200, 100), path)"
   ]
  },
  {
   "cell_type": "code",
   "execution_count": 14,
   "metadata": {},
   "outputs": [],
   "source": [
    "# Nimmt ein numpy-array an welches zb. durch g.runModel() erzeugt wird.\n",
    "# Zeichnet das Feld auf bekannte Weise unter angabe des zeitindex.\n",
    "def drawImage(field,index):\n",
    "    plt.imshow(np.stack([field[index,:,:,1],field[index,:,:,0],np.zeros(shape = (field.shape[1], field.shape[2]))], axis = 2))"
   ]
  },
  {
   "cell_type": "code",
   "execution_count": 15,
   "metadata": {
    "scrolled": true
   },
   "outputs": [
    {
     "data": {
      "image/png": "[encoded data removed]",
      "text/plain": [
       "<Figure size 432x288 with 1 Axes>"
      ]
     },
     "metadata": {
      "needs_background": "light"
     },
     "output_type": "display_data"
    }
   ],
   "source": [
    "drawImage(io.read(path)[0], 19)"
   ]
  },
  {
   "cell_type": "code",
   "execution_count": 16,
   "metadata": {
    "scrolled": true
   },
   "outputs": [
    {
     "data": {
      "image/png": "[encoded data removed]",
      "text/plain": [
       "<Figure size 432x288 with 1 Axes>"
      ]
     },
     "metadata": {
      "needs_background": "light"
     },
     "output_type": "display_data"
    }
   ],
   "source": [
    "drawImage(io.read(path)[2], 19)"
   ]
  },
  {
   "cell_type": "code",
   "execution_count": 17,
   "metadata": {},
   "outputs": [
    {
     "data": {
      "text/plain": [
       "'\\n%matplotlib notebook\\nanim.animate(path, 1)\\n'"
      ]
     },
     "execution_count": 17,
     "metadata": {},
     "output_type": "execute_result"
    }
   ],
   "source": [
    "\"\"\"\n",
    "%matplotlib notebook\n",
    "anim.animate(path, 1)\n",
    "\"\"\""
   ]
  }
 ],
 "metadata": {
  "kernelspec": {
   "display_name": "Python 3",
   "language": "python",
   "name": "python3"
  },
  "language_info": {
   "codemirror_mode": {
    "name": "ipython",
    "version": 3
   },
   "file_extension": ".py",
   "mimetype": "text/x-python",
   "name": "python",
   "nbconvert_exporter": "python",
   "pygments_lexer": "ipython3",
   "version": "3.8.3"
  }
 },
 "nbformat": 4,
 "nbformat_minor": 4
}
