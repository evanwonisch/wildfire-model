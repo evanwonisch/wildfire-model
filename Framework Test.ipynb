{
 "cells": [
  {
   "cell_type": "code",
   "execution_count": 1,
   "metadata": {},
   "outputs": [],
   "source": [
    "import numpy as np\n",
    "from matplotlib import pyplot as plt\n",
    "from src.FireFramework import * # importieren des Frameworks"
   ]
  },
  {
   "cell_type": "markdown",
   "metadata": {},
   "source": [
    "## Beispielhafte Verwendung des Frameworks"
   ]
  },
  {
   "cell_type": "code",
   "execution_count": 2,
   "metadata": {},
   "outputs": [],
   "source": [
    "# Liste der pro Zelle zu speichernden Werte\n",
    "params = [\"fuel\",\"fire\"]\n",
    "\n",
    "# Relativvektoren der zu betrachtenen Nachbarn\n",
    "relative_neighbours = [(-1,0),(1,0),(0,1),(0,-1),(-1,1),(1,1),(-1,-1),(1,-1)] \n",
    "\n",
    "\n",
    "# Ein Startfeld (Zeile, Spalte) -> liste.\n",
    "# Liefert die Anfangsparameter (Reihenfolge wie oben in \"params\" spezifiziert)\n",
    "def initial_field(row, col):\n",
    "    fuel = 0.9\n",
    "    burn = 0\n",
    "    if row == 20 and col == 20: burn = 1\n",
    "    \n",
    "    return [fuel, burn] # Hier der Anfangswert-return\n",
    "\n",
    "\n",
    "# Die Zustandsübergangs-funktion:\n",
    "#\n",
    "# cellState: enthält den aktuellen Status der Zelle\n",
    "# die Werte können mittels cellState.getParam(name) erhalten werden.\n",
    "#\n",
    "# neighbourStates: liste. Enthält eine Liste (Anzahl der jeweiligen Nachbarn berücksichtigt) mit Statusobjekten der Nachbarn.\n",
    "# Die Werte der Nachbarn aus neighbourStates = [n1, n2, ...] können mithilfe von n1.getParam(name) erhalten werden.\n",
    "# Außerdem kann man von jedem Nachbarn die Relativposition erhalten: n1.getRelativeVector() = (dx, dy)\n",
    "# (Diese Information wurde in \"relative_neighbour\" (s.o.) festgelegt)\n",
    "#\n",
    "# returnState: Dies ist der Status der jeweiligen Zelle nach dem Update. Er verfügt deshalb noch über zwei weitere Methoden:\n",
    "# returnState.setParam(name, value) setzt den zukünftigen Status der Zelle\n",
    "# returnState.addToParam(name, delta) adiert auf den alten Wert des Zellstatus ein delta auf. (convenient)\n",
    "# Wird ein Wert nicht verändert muss nichts getan werden. Der alte wird dann beibehalten.\n",
    "# Es ändert sich nur etwas wenn setParam() oder addToParam() aufgerufen wird.\n",
    "# \n",
    "# Mann muss nichts returnen. Die Änderungen erfolgen durch Aufruf der obigen Methoden.\n",
    "#\n",
    "def transition(cellState, neighbourStates, returnState):\n",
    "    #Beispiel\n",
    "    p_burn = 1/8 * sum([n.getParam(\"fire\") for n in neighbourStates]) #Anteil der brennenden Nachbarzellen\n",
    "    p_stop = (1 - cellState.getParam(\"fuel\")) ** 8  #Erlöschen bei wenig Brennwert\n",
    "    \n",
    "    if p_burn >= np.random.uniform():\n",
    "        returnState.setParam(\"fire\", 1)\n",
    "        \n",
    "    if p_stop >= np.random.uniform():\n",
    "        returnState.setParam(\"fire\", 0)\n",
    "        \n",
    "    returnState.addToParam(\"fuel\", -0.01*cellState.getParam(\"fire\")) # Verringerung des Brennwerts\n",
    "\n",
    "# Hier wird das Gitter erzeugt und die oben definierten Parameter übergeben..\n",
    "g = Grid(50,50,params, relative_neighbours, transition, initial_field)"
   ]
  },
  {
   "cell_type": "code",
   "execution_count": 3,
   "metadata": {},
   "outputs": [
    {
     "name": "stdout",
     "output_type": "stream",
     "text": [
      "0%\n",
      "10%\n",
      "20%\n",
      "30%\n",
      "40%\n",
      "50%\n",
      "60%\n",
      "70%\n",
      "80%\n",
      "90%\n"
     ]
    }
   ],
   "source": [
    "# Läuft 100 Iterationen durch und gibt das ganze Feld (mit zeitlicher Entwicklung) zurück.\n",
    "result = g.runModel(100)"
   ]
  },
  {
   "cell_type": "code",
   "execution_count": 11,
   "metadata": {},
   "outputs": [
    {
     "data": {
      "text/plain": [
       "(200, 50, 50, 2)"
      ]
     },
     "execution_count": 11,
     "metadata": {},
     "output_type": "execute_result"
    }
   ],
   "source": [
    "result.shape\n",
    "# (Zeit, Row, Col, Parameter)"
   ]
  }
 ],
 "metadata": {
  "kernelspec": {
   "display_name": "Python 3",
   "language": "python",
   "name": "python3"
  },
  "language_info": {
   "codemirror_mode": {
    "name": "ipython",
    "version": 3
   },
   "file_extension": ".py",
   "mimetype": "text/x-python",
   "name": "python",
   "nbconvert_exporter": "python",
   "pygments_lexer": "ipython3",
   "version": "3.7.7"
  }
 },
 "nbformat": 4,
 "nbformat_minor": 4
}
