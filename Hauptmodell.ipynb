{
 "cells": [
  {
   "cell_type": "code",
   "execution_count": 1,
   "metadata": {},
   "outputs": [],
   "source": [
    "import numpy as np\n",
    "from matplotlib import pyplot as plt\n",
    "from src.FireFramework import * # importieren des Frameworks\n",
    "from PIL import Image"
   ]
  },
  {
   "cell_type": "markdown",
   "metadata": {},
   "source": [
    "# Modelldefinition"
   ]
  },
  {
   "cell_type": "code",
   "execution_count": 7,
   "metadata": {},
   "outputs": [],
   "source": [
    "def dot(a,b):\n",
    "    return a[0]*b[0]+a[1]*b[1]"
   ]
  },
  {
   "cell_type": "code",
   "execution_count": 2,
   "metadata": {},
   "outputs": [],
   "source": [
    "# Liste der pro Zelle zu speichernden Werte\n",
    "params = [\"fuel\", \"fire\", \"windx\", \"windy\", \"height\"]\n",
    "\n",
    "# Relativvektoren der zu betrachtenen Nachbarn\n",
    "relative_neighbours = [(-1,0),(1,0),(0,1),(0,-1),(-1,1),(1,1),(-1,-1),(1,-1)] "
   ]
  },
  {
   "cell_type": "code",
   "execution_count": 3,
   "metadata": {},
   "outputs": [],
   "source": [
    "def transition(cellState, neighbourStates, returnState):\n",
    "    \n",
    "    #Parameter der Nachbarn:\n",
    "    slope = []\n",
    "    rel_wind = []\n",
    "    neighbour_fire = []\n",
    "\n",
    "    #Vorbereitung der Werte der Nachbarn\n",
    "    for n in neighbourStates:\n",
    "        slope.append(np.tanh(n.getParam(\"height\") - cellState.getParam(\"height\")))\n",
    "        wind = (n.getParam(\"windx\"), n.getParam(\"windy\"))\n",
    "        rel_wind.append(np.tanh(dot(wind, n.getRelativeVector())))\n",
    "        neighbour_fire.append(n.getParam(\"fire\"))    \n",
    "\n",
    "    #Konvertieren zu numpy arrays\n",
    "    slope = np.array(slope)\n",
    "    rel_wind = np.array(rel_wind)\n",
    "    neighbour_fire = np.array(neighbour_fire)\n",
    "\n",
    "    #Wahrscheinlichkeiten berechnen\n",
    "\n",
    "    slope_coeff = - np.sum(neighbour_fire * slope)\n",
    "    wind_coeff = - np.sum(neighbour_fire * rel_wind)\n",
    "    \n",
    "    p_burn = 1/8 * np.sum(neighbour_fire) + 0.05 * slope_coeff + 0.1 * wind_coeff\n",
    "    p_burn *= cellState.getParam(\"fuel\")\n",
    "    \n",
    "    p_stop = (1 - cellState.getParam(\"fuel\")) ** 8  #Erlöschen bei wenig Brennwert\n",
    "    \n",
    "    #Wahrscheinlichkeiten umsetzen\n",
    "    \n",
    "    if p_burn >= np.random.uniform():\n",
    "        returnState.setParam(\"fire\", 1)\n",
    "        \n",
    "    if p_stop >= np.random.uniform():\n",
    "        returnState.setParam(\"fire\", 0)\n",
    "        \n",
    "    returnState.addToParam(\"fuel\", -0.05*cellState.getParam(\"fire\")) # Verringerung des Brennwerts\n",
    "    if returnState.getParam(\"fuel\") < 0:\n",
    "        returnState.setParam(\"fuel\", 0)"
   ]
  },
  {
   "cell_type": "markdown",
   "metadata": {},
   "source": [
    "## Startwerte definieren"
   ]
  },
  {
   "cell_type": "code",
   "execution_count": 6,
   "metadata": {},
   "outputs": [],
   "source": [
    "def initial_field(row, col):\n",
    "    fuel = 0.99\n",
    "    burn = 0\n",
    "    if row == 20 and col == 20: burn = 1\n",
    "    \n",
    "    height = 0\n",
    "    windx = 1\n",
    "    windy = 0\n",
    "    \n",
    "    return [fuel, burn, windx, windy, height] # Hier der Anfangswert-return"
   ]
  },
  {
   "cell_type": "code",
   "execution_count": 8,
   "metadata": {},
   "outputs": [],
   "source": [
    "# Hier wird das Gitter erzeugt und die oben definierten Parameter übergeben..\n",
    "g = Grid(100, 100, params, relative_neighbours, transition, initial_field)"
   ]
  },
  {
   "cell_type": "markdown",
   "metadata": {},
   "source": [
    "### Modell auswerten"
   ]
  },
  {
   "cell_type": "code",
   "execution_count": 37,
   "metadata": {},
   "outputs": [],
   "source": [
    "# Nimmt ein numpy-array an welches zb. durch g.runModel() erzeugt wird.\n",
    "# Zeichnet das Feld auf bekannte Weise unter angabe des zeitindex.\n",
    "def drawImage(field,index):\n",
    "    plt.imshow(np.stack([field[index,:,:,1],field[index,:,:,0],np.zeros(shape = (field.shape[1], field.shape[2]))], axis = 2))"
   ]
  },
  {
   "cell_type": "code",
   "execution_count": 14,
   "metadata": {},
   "outputs": [
    {
     "name": "stdout",
     "output_type": "stream",
     "text": [
      "10%\n",
      "20%\n",
      "30%\n",
      "40%\n",
      "50%\n",
      "60%\n",
      "70%\n",
      "80%\n",
      "90%\n",
      "100%\n"
     ]
    }
   ],
   "source": [
    "# Läuft mehrere Iterationen durch und gibt das ganze Feld (mit zeitlicher Entwicklung) zurück.\n",
    "N = 100\n",
    "result = g.runModel(N)"
   ]
  },
  {
   "cell_type": "code",
   "execution_count": 16,
   "metadata": {},
   "outputs": [],
   "source": [
    "total_values = np.sum(result, axis = (1,2))"
   ]
  },
  {
   "cell_type": "code",
   "execution_count": 17,
   "metadata": {},
   "outputs": [
    {
     "data": {
      "text/plain": [
       "<matplotlib.legend.Legend at 0x1d3f559f9c8>"
      ]
     },
     "execution_count": 17,
     "metadata": {},
     "output_type": "execute_result"
    },
    {
     "data": {
      "image/png": "[encoded data removed]",
      "text/plain": [
       "<Figure size 432x288 with 1 Axes>"
      ]
     },
     "metadata": {
      "needs_background": "light"
     },
     "output_type": "display_data"
    }
   ],
   "source": [
    "plt.plot(np.arange(N) / 24, total_values[:,1], label = \"Model\")\n",
    "plt.xlabel(\"Zeit in Tagen\")\n",
    "plt.ylabel(\"Gesamtbrandintensität\")\n",
    "plt.legend()"
   ]
  },
  {
   "cell_type": "code",
   "execution_count": 18,
   "metadata": {},
   "outputs": [
    {
     "data": {
      "text/plain": [
       "<matplotlib.legend.Legend at 0x1d3f5d46a88>"
      ]
     },
     "execution_count": 18,
     "metadata": {},
     "output_type": "execute_result"
    },
    {
     "data": {
      "image/png": "[encoded data removed]",
      "text/plain": [
       "<Figure size 432x288 with 1 Axes>"
      ]
     },
     "metadata": {
      "needs_background": "light"
     },
     "output_type": "display_data"
    }
   ],
   "source": [
    "plt.plot(np.arange(N) / 24, total_values[:,0], label = \"Model\")\n",
    "plt.xlabel(\"Zeit in Tagen\")\n",
    "plt.ylabel(\"Gesamtbrennwert\")\n",
    "plt.legend()"
   ]
  },
  {
   "cell_type": "code",
   "execution_count": 39,
   "metadata": {},
   "outputs": [
    {
     "data": {
      "image/png": "[encoded data removed]",
      "text/plain": [
       "<Figure size 432x288 with 1 Axes>"
      ]
     },
     "metadata": {
      "needs_background": "light"
     },
     "output_type": "display_data"
    }
   ],
   "source": [
    "for i in range(int(N/10)):\n",
    "    drawImage(result, i * 10)"
   ]
  },
  {
   "cell_type": "code",
   "execution_count": null,
   "metadata": {},
   "outputs": [],
   "source": []
  }
 ],
 "metadata": {
  "kernelspec": {
   "display_name": "Python 3",
   "language": "python",
   "name": "python3"
  },
  "language_info": {
   "codemirror_mode": {
    "name": "ipython",
    "version": 3
   },
   "file_extension": ".py",
   "mimetype": "text/x-python",
   "name": "python",
   "nbconvert_exporter": "python",
   "pygments_lexer": "ipython3",
   "version": "3.7.7"
  }
 },
 "nbformat": 4,
 "nbformat_minor": 4
}
