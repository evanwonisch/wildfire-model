{
 "cells": [
  {
   "cell_type": "code",
   "execution_count": 1,
   "metadata": {},
   "outputs": [],
   "source": [
    "import numpy as np\n",
    "from matplotlib import pyplot as plt\n",
    "from src.FireFramework import * # importieren des Frameworks\n",
    "from PIL import Image"
   ]
  },
  {
   "cell_type": "markdown",
   "metadata": {},
   "source": [
    "## Modelldefinition"
   ]
  },
  {
   "cell_type": "code",
   "execution_count": 2,
   "metadata": {},
   "outputs": [],
   "source": [
    "SIZE = 200"
   ]
  },
  {
   "cell_type": "code",
   "execution_count": 3,
   "metadata": {},
   "outputs": [],
   "source": [
    "def dot(t1,t2):\n",
    "    return t1[0] * t2[0] + t1[1] * t2[1]"
   ]
  },
  {
   "cell_type": "code",
   "execution_count": 4,
   "metadata": {},
   "outputs": [],
   "source": [
    "# Liste der pro Zelle zu speichernden Werte\n",
    "params = [\"fuel\", \"fire\", \"windx\", \"windy\", \"height\", \"burned\", \"inflammability\"]\n",
    "\n",
    "# Relativvektoren der zu betrachtenen Nachbarn (Kreis mit Radius #)\n",
    "radius = 1\n",
    "\n",
    "relative_neighbours = []\n",
    "for x in range(radius * 2 +1):\n",
    "    for y in range(radius*2 +1):\n",
    "        xcord = x - radius\n",
    "        ycord = y - radius\n",
    "        r = xcord**2 + ycord**2\n",
    "        \n",
    "        if r <= radius**2 and r != 0:\n",
    "            relative_neighbours.append((xcord,ycord))"
   ]
  },
  {
   "cell_type": "code",
   "execution_count": 5,
   "metadata": {},
   "outputs": [],
   "source": [
    "def transition(cellState, neighbourStates, returnState):\n",
    "    \n",
    "    #Parameter der Nachbarn:\n",
    "    slope = []\n",
    "    rel_wind = []\n",
    "    neighbour_fire = []\n",
    "    distance = []\n",
    "\n",
    "    #Vorbereitung der Werte der Nachbarn\n",
    "    for n in neighbourStates:\n",
    "        \n",
    "        slope_ = np.tanh(n.getParam(\"height\") - cellState.getParam(\"height\"))\n",
    "        fire_ = n.getParam(\"fire\")\n",
    "        distance_ = np.sqrt(dot(n.getRelativeVector(), n.getRelativeVector()))\n",
    "        wind = (n.getParam(\"windx\"), n.getParam(\"windy\"))\n",
    "        rel_wind_ = np.tanh(dot(wind, n.getRelativeVector()) / distance_)\n",
    "        \n",
    "        slope.append(slope_)\n",
    "        neighbour_fire.append(fire_)\n",
    "        distance.append(distance_)\n",
    "        rel_wind.append(rel_wind_)  \n",
    "\n",
    "    #Konvertieren zu numpy arrays\n",
    "    slope = np.array(slope)\n",
    "    rel_wind = np.array(rel_wind)\n",
    "    neighbour_fire = np.array(neighbour_fire)\n",
    "    distance = np.array(distance)\n",
    "\n",
    "    #Wahrscheinlichkeiten berechnen\n",
    "\n",
    "    slope_coeff = - np.sum(neighbour_fire * slope / distance)\n",
    "    wind_coeff = - np.sum(neighbour_fire * rel_wind / distance)\n",
    "    \n",
    "    p_burn = 1/8 * np.sum(neighbour_fire / distance) + 0.1 * slope_coeff + 0.1 * wind_coeff\n",
    "    p_burn *= cellState.getParam(\"inflammability\")\n",
    "    \n",
    "    p_stop = (1 - cellState.getParam(\"fuel\")) ** 8  #Erlöschen bei wenig Brennwert\n",
    "\n",
    "    \n",
    "    #Wahrscheinlichkeiten umsetzen\n",
    "    \n",
    "    \n",
    "    if p_burn >= np.random.uniform():\n",
    "        returnState.setParam(\"fire\", 1)\n",
    "    \n",
    "    if cellState.getParam(\"fire\") == 1:\n",
    "        if p_stop >= np.random.uniform():\n",
    "            returnState.setParam(\"fire\", 0)\n",
    "            returnState.setParam(\"burned\", 1)\n",
    "\n",
    "        \n",
    "    returnState.addToParam(\"fuel\", -0.05*cellState.getParam(\"fire\")) # Verringerung des Brennwerts\n",
    "    if returnState.getParam(\"fuel\") < 0:\n",
    "        returnState.setParam(\"fuel\", 0)\n",
    "    returnState.addToParam(\"inflammability\", -0.05*cellState.getParam(\"fire\"))\n",
    "    if returnState.getParam(\"inflammability\") < 0:\n",
    "        returnState.setParam(\"inflammability\", 0)"
   ]
  },
  {
   "cell_type": "markdown",
   "metadata": {},
   "source": [
    "## Startwerte"
   ]
  },
  {
   "cell_type": "code",
   "execution_count": 6,
   "metadata": {},
   "outputs": [],
   "source": [
    "def loadImage(path, cropsection, size):\n",
    "    img_ = Image.open(path).convert('RGB').crop(cropsection).resize(size, Image.NEAREST) # Rezisemethode nicht ändern\n",
    "    img = np.array(img_)\n",
    "    img_.close()\n",
    "    return img\n",
    "\n",
    "\n",
    "def loadFuelData(path, cropsection, size):\n",
    "    \"\"\"\n",
    "    Erzeugt Fuelmap aus Kartenmaterial der ESA\n",
    "    path: Pfad zum Kartenmaterial\n",
    "    area: Bildausschnitt (links, oben, rechts, unten)\n",
    "    size: Auflösung der Fuelmap (x,y)\n",
    "    \n",
    "    return (fuelmap, inflammabilitymap) Karten mit entsprechenden Werten\n",
    "    \"\"\"\n",
    "\n",
    "    # Lädt Bild & konvertiert in Array\n",
    "    img = loadImage(path, cropsection, size)\n",
    "    plt.imshow(img) # Optional zur Überprüfung\n",
    "\n",
    "    # Farben des Kartenmaterials zu Brennwerten\n",
    "    # HIER VERSCHIEDENE BRENNWERTE EINSETZEN & AUSPROBIEREN\n",
    "    lookupfuel = {\n",
    "        #Tree Cover\n",
    "        (0,100,0): 0.8,\n",
    "        #Shrubland\n",
    "        (255,187,34): 0.1,\n",
    "        #Grassland\n",
    "        (255,255,76): 0.2,\n",
    "        #Cropland\n",
    "        (240,150,255): 0.2,\n",
    "        #Built-up\n",
    "        (250,0,0): 0.3,\n",
    "        #Bare/sparse vegetation\n",
    "        (180,180,180): 0.1,\n",
    "        #Snow and Ice\n",
    "        (240,240,240): 0,\n",
    "        #Permanent water bodies\n",
    "        (0,100,200): 0,\n",
    "        #Herbaceous wetland\n",
    "        (0,150,160): 0.1,\n",
    "        #Mangroves\n",
    "        (0,207,117): 0.1,\n",
    "        #Moss and lichen\n",
    "        (250,230,160): 0.1,\n",
    "    }\n",
    "\n",
    "    # Farben des Kartenmaterials zu Entzündbarkeiten\n",
    "    # HIER VERSCHIEDENE BRENNWERTE EINSETZEN & AUSPROBIEREN\n",
    "    lookupinflammability = {\n",
    "        #Tree Cover\n",
    "        (0,100,0): 0.3,\n",
    "        #Shrubland\n",
    "        (255,187,34): 0.9,\n",
    "        #Grassland\n",
    "        (255,255,76): 0.4,\n",
    "        #Cropland\n",
    "        (240,150,255): 0.6,\n",
    "        #Built-up\n",
    "        (250,0,0): 0.1,\n",
    "        #Bare/sparse vegetation\n",
    "        (180,180,180): 0.6,\n",
    "        #Snow and Ice\n",
    "        (240,240,240): 0,\n",
    "        #Permanent water bodies\n",
    "        (0,100,200): 0,\n",
    "        #Herbaceous wetland\n",
    "        (0,150,160): 0.2,\n",
    "        #Mangroves\n",
    "        (0,207,117): 0.4,\n",
    "        #Moss and lichen\n",
    "        (250,230,160): 0.5,\n",
    "    }\n",
    "\n",
    "    \n",
    "    fuelmap = np.zeros(size)\n",
    "    inflammabilitymap = np.zeros(size)\n",
    "    \n",
    "    # Konvertiert Karte zu Fuelmap durch Dictionary Lookup\n",
    "    for i in range(size[0]):\n",
    "        for j in range(size[1]):\n",
    "            fuelmap[i,j] = lookupfuel.get(tuple(img[i,j]), 0)\n",
    "            inflammabilitymap[i,j] = lookupinflammability.get(tuple(img[i,j]), 0)\n",
    "            \n",
    "        if(i % (size[0]/10) == 0): print(100 * i / size[0], \"%\") # Ladebalken\n",
    "\n",
    "    return (fuelmap, inflammabilitymap)"
   ]
  },
  {
   "cell_type": "code",
   "execution_count": 7,
   "metadata": {},
   "outputs": [
    {
     "name": "stdout",
     "output_type": "stream",
     "text": [
      "0.0 %\n",
      "10.0 %\n",
      "20.0 %\n",
      "30.0 %\n",
      "40.0 %\n",
      "50.0 %\n",
      "60.0 %\n",
      "70.0 %\n",
      "80.0 %\n",
      "90.0 %\n"
     ]
    },
    {
     "data": {
      "image/png": "[encoded data removed]",
      "text/plain": [
       "<Figure size 432x288 with 1 Axes>"
      ]
     },
     "metadata": {
      "needs_background": "light"
     },
     "output_type": "display_data"
    }
   ],
   "source": [
    "(fuelmap, inflammabilitymap) = loadFuelData(\"data/Oregon_Bitmap.bmp\", (0,0,4000,4000),(200,200))"
   ]
  },
  {
   "cell_type": "code",
   "execution_count": 8,
   "metadata": {},
   "outputs": [],
   "source": [
    "def initial_field(row, col):\n",
    "\n",
    "    fuel = fuelmap[row, col]\n",
    "    inflammability = inflammabilitymap[row, col]\n",
    "    \n",
    "    fire = 0\n",
    "    if row == 5 and col == 5: fire = 1\n",
    "        \n",
    "    burned = 0\n",
    "\n",
    "    height = 0\n",
    "    windx = 0\n",
    "    windy = 0\n",
    "\n",
    "    return [fuel, fire, windx, windy, height, burned, inflammability] # Hier der Anfangswert-return"
   ]
  },
  {
   "cell_type": "markdown",
   "metadata": {},
   "source": [
    "---\n",
    "## Modell erzeugen"
   ]
  },
  {
   "cell_type": "code",
   "execution_count": 9,
   "metadata": {},
   "outputs": [],
   "source": [
    "g = Grid(SIZE, SIZE, params, relative_neighbours, transition, initial_field)"
   ]
  },
  {
   "cell_type": "code",
   "execution_count": 10,
   "metadata": {},
   "outputs": [],
   "source": [
    "def drawImage(field, index):\n",
    "    plt.imshow(np.stack([field[index,:,:,1],field[index,:,:,0],np.zeros(shape = (SIZE,SIZE))], axis = 2))\n",
    "    plt.show()"
   ]
  },
  {
   "cell_type": "markdown",
   "metadata": {},
   "source": [
    "### Modell auswerten"
   ]
  },
  {
   "cell_type": "code",
   "execution_count": 15,
   "metadata": {},
   "outputs": [
    {
     "name": "stdout",
     "output_type": "stream",
     "text": [
      "10%\n",
      "20%\n",
      "30%\n",
      "40%\n",
      "50%\n",
      "60%\n",
      "70%\n",
      "80%\n",
      "90%\n",
      "100%\n"
     ]
    }
   ],
   "source": [
    "# Läuft mehrere Iterationen durch und gibt das ganze Feld (mit zeitlicher Entwicklung) zurück.\n",
    "N = 10\n",
    "result = g.runModel(N)"
   ]
  },
  {
   "cell_type": "code",
   "execution_count": 17,
   "metadata": {},
   "outputs": [
    {
     "data": {
      "image/png": "[encoded data removed]",
      "text/plain": [
       "<Figure size 432x288 with 1 Axes>"
      ]
     },
     "metadata": {
      "needs_background": "light"
     },
     "output_type": "display_data"
    }
   ],
   "source": [
    "drawImage(result, 9)"
   ]
  },
  {
   "cell_type": "code",
   "execution_count": null,
   "metadata": {},
   "outputs": [],
   "source": []
  }
 ],
 "metadata": {
  "kernelspec": {
   "display_name": "Python 3",
   "language": "python",
   "name": "python3"
  },
  "language_info": {
   "codemirror_mode": {
    "name": "ipython",
    "version": 3
   },
   "file_extension": ".py",
   "mimetype": "text/x-python",
   "name": "python",
   "nbconvert_exporter": "python",
   "pygments_lexer": "ipython3",
   "version": "3.7.7"
  }
 },
 "nbformat": 4,
 "nbformat_minor": 5
}
