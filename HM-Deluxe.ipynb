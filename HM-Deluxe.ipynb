{
 "cells": [
  {
   "cell_type": "code",
   "execution_count": 1,
   "id": "intensive-taiwan",
   "metadata": {},
   "outputs": [],
   "source": [
    "import numpy as np\n",
    "from matplotlib import pyplot as plt\n",
    "from src.FireFramework import * # importieren des Frameworks\n",
    "from PIL import Image\n",
    "\n",
    "import utility.animation_utility as anim\n",
    "import utility.io_utility as io"
   ]
  },
  {
   "cell_type": "code",
   "execution_count": 2,
   "id": "meaningful-declaration",
   "metadata": {},
   "outputs": [],
   "source": [
    "def drawImage(field, index):\n",
    "    plt.imshow(np.stack([field[index,:,:,1],field[index,:,:,0],np.zeros(shape = (100,100))], axis = 2))\n",
    "    plt.show()"
   ]
  },
  {
   "cell_type": "code",
   "execution_count": 3,
   "id": "comfortable-ceiling",
   "metadata": {},
   "outputs": [],
   "source": [
    "def loadImage(path, size):\n",
    "    img_ = Image.open(path).resize(size, Image.BICUBIC)\n",
    "    img = np.array(img_) / 255\n",
    "    img_.close()\n",
    "    return img"
   ]
  },
  {
   "cell_type": "code",
   "execution_count": 4,
   "id": "activated-significance",
   "metadata": {},
   "outputs": [],
   "source": [
    "def dot(t1,t2):\n",
    "    return t1[0] * t2[0] + t1[1] * t2[1]"
   ]
  },
  {
   "cell_type": "code",
   "execution_count": 5,
   "id": "infectious-process",
   "metadata": {},
   "outputs": [],
   "source": [
    "# Liste der pro Zelle zu speichernden Werte\n",
    "params = [\"fuel\", \"fire\", \"windx\", \"windy\", \"height\", \"burned\", \"flammability\"]\n",
    "\n",
    "# Relativvektoren der zu betrachtenen Nachbarn (Kreis mit Radius #)\n",
    "radius = 1\n",
    "\n",
    "relative_neighbours = []\n",
    "for x in range(radius * 2 +1):\n",
    "    for y in range(radius*2 +1):\n",
    "        xcord = x - radius\n",
    "        ycord = y - radius\n",
    "        r = xcord**2 + ycord**2\n",
    "        \n",
    "        if r <= radius**2 and r != 0:\n",
    "            relative_neighbours.append((xcord,ycord))"
   ]
  },
  {
   "cell_type": "code",
   "execution_count": 6,
   "id": "seasonal-rebate",
   "metadata": {},
   "outputs": [],
   "source": [
    "def transition(cellState, neighbourStates, returnState):\n",
    "    \n",
    "    #Parameter der Nachbarn:\n",
    "    slope = []\n",
    "    rel_wind = []\n",
    "    neighbour_fire = []\n",
    "    distance = []\n",
    "\n",
    "    #Vorbereitung der Werte der Nachbarn\n",
    "    for n in neighbourStates:\n",
    "        \n",
    "        slope_ = np.tanh(n.getParam(\"height\") - cellState.getParam(\"height\"))\n",
    "        fire_ = n.getParam(\"fire\")\n",
    "        distance_ = np.sqrt(dot(n.getRelativeVector(), n.getRelativeVector()))\n",
    "        wind = (n.getParam(\"windx\"), n.getParam(\"windy\"))\n",
    "        rel_wind_ = np.tanh(dot(wind, n.getRelativeVector()) / distance_)\n",
    "        \n",
    "        slope.append(slope_)\n",
    "        neighbour_fire.append(fire_)\n",
    "        distance.append(distance_)\n",
    "        rel_wind.append(rel_wind_)  \n",
    "\n",
    "    #Konvertieren zu numpy arrays\n",
    "    slope = np.array(slope)\n",
    "    rel_wind = np.array(rel_wind)\n",
    "    neighbour_fire = np.array(neighbour_fire)\n",
    "    distance = np.array(distance)\n",
    "\n",
    "    #Wahrscheinlichkeiten berechnen\n",
    "\n",
    "    slope_coeff = - np.sum(neighbour_fire * slope / distance)\n",
    "    wind_coeff = - np.sum(neighbour_fire * rel_wind / distance)\n",
    "    \n",
    "    p_burn = 1/8 * np.sum(neighbour_fire / distance) + 0.1 * slope_coeff + 0.1 * wind_coeff\n",
    "    p_burn *= cellState.getParam(\"flammability\")\n",
    "    \n",
    "    p_stop = (1 - cellState.getParam(\"fuel\")) ** 8  #Erlöschen bei wenig Brennwert\n",
    "\n",
    "    \n",
    "    #Wahrscheinlichkeiten umsetzen\n",
    "    \n",
    "    \n",
    "    if p_burn >= np.random.uniform():\n",
    "        returnState.setParam(\"fire\", 1)\n",
    "    \n",
    "    if cellState.getParam(\"fire\") == 1:\n",
    "        if p_stop >= np.random.uniform():\n",
    "            returnState.setParam(\"fire\", 0)\n",
    "            returnState.setParam(\"burned\", 1)\n",
    "    \n",
    "\n",
    "\n",
    "        \n",
    "    returnState.addToParam(\"fuel\", -0.05*cellState.getParam(\"fire\")) # Verringerung des Brennwerts\n",
    "    if returnState.getParam(\"fuel\") < 0:\n",
    "        returnState.setParam(\"fuel\", 0)\n",
    "    returnState.addToParam(\"flammability\", -0.05*cellState.getParam(\"fire\"))\n",
    "    if returnState.getParam(\"flammability\") < 0:\n",
    "        returnState.setParam(\"flammability\", 0)"
   ]
  },
  {
   "cell_type": "markdown",
   "id": "turkish-noise",
   "metadata": {},
   "source": [
    "## Initial Fields"
   ]
  },
  {
   "cell_type": "code",
   "execution_count": 7,
   "id": "loose-alert",
   "metadata": {},
   "outputs": [],
   "source": [
    "def vari_Evan():\n",
    "    fuelmap = loadImage(\"data/fuelmap1.jpg\", (20,20))\n",
    "    heightmap = loadImage(\"data/heightmap.jpg\", (20,20))\n",
    "\n",
    "    def initial_field(row, col):\n",
    "        fuel = (1 - fuelmap[row,col,2])**4\n",
    "        burn = 0\n",
    "        if row == 10 and col == 10: burn = 1\n",
    "\n",
    "        height = heightmap[row,col,0]\n",
    "        windx = 5\n",
    "        windy = 0\n",
    "\n",
    "        return [fuel, burn, windx, windy, height] # Hier der Anfangswert-return\n"
   ]
  },
  {
   "cell_type": "code",
   "execution_count": 8,
   "id": "organizational-advisory",
   "metadata": {},
   "outputs": [],
   "source": [
    "def var_fuel(size, N, start, stop, incr):\n",
    "    def initial_field(row, col):\n",
    "        fuel = pfuel\n",
    "        flammability = 0.99\n",
    "        burn = 0\n",
    "        burned = 0\n",
    "        if row == size/2-1 and col == size/2-1: burn = 1\n",
    "    \n",
    "        height = 0\n",
    "        windx = 0\n",
    "        windy = 0\n",
    "    \n",
    "        return [fuel, burn, windx, windy, height, burned, flammability] # Hier der Anfangswert-return\n",
    "    \n",
    "    \n",
    "    result = []\n",
    "\n",
    "    pfuel = start\n",
    "    while pfuel <= stop:\n",
    "        \n",
    "        # Hier wird das Gitter erzeugt und die oben definierten Parameter übergeben..\n",
    "        g = Grid(size, size, params, relative_neighbours, transition, initial_field)\n",
    "        \n",
    "        # Läuft mehrere Iterationen durch und gibt das ganze Feld (mit zeitlicher Entwicklung) zurück.\n",
    "        result.append(g.runModel(N))\n",
    "        \n",
    "        pfuel = pfuel + incr\n",
    "     \n",
    "    return result"
   ]
  },
  {
   "cell_type": "code",
   "execution_count": 9,
   "id": "affected-improvement",
   "metadata": {},
   "outputs": [],
   "source": [
    "def var_flammability(size, N, start, stop, incr):\n",
    "    def initial_field(row, col):\n",
    "        fuel = 0.99\n",
    "        flammability = pflammability\n",
    "        burn = 0\n",
    "        burned = 0\n",
    "        if row == size/2-1 and col == size/2-1: burn = 1\n",
    "    \n",
    "        height = 0\n",
    "        windx = 0\n",
    "        windy = 0\n",
    "    \n",
    "        return [fuel, burn, windx, windy, height, burned, flammability] # Hier der Anfangswert-return\n",
    "    \n",
    "    \n",
    "    result = []\n",
    "\n",
    "    pflammability = start\n",
    "    while pflammability <= stop:\n",
    "        \n",
    "        # Hier wird das Gitter erzeugt und die oben definierten Parameter übergeben..\n",
    "        g = Grid(size, size, params, relative_neighbours, transition, initial_field)\n",
    "        \n",
    "        # Läuft mehrere Iterationen durch und gibt das ganze Feld (mit zeitlicher Entwicklung) zurück.\n",
    "        result.append(g.runModel(N))\n",
    "        \n",
    "        pflammability = pflammability + incr\n",
    "     \n",
    "    return result"
   ]
  },
  {
   "cell_type": "code",
   "execution_count": 10,
   "id": "adjustable-client",
   "metadata": {},
   "outputs": [],
   "source": [
    "def var_windx(size, N, start, stop, incr):\n",
    "    def initial_field(row, col):\n",
    "        fuel = 0.99\n",
    "        flammability = 0.99\n",
    "        burn = 0\n",
    "        burned = 0\n",
    "        if row == size/2-1 and col == size/2-1: burn = 1\n",
    "    \n",
    "        height = 0\n",
    "        windx = pwindx\n",
    "        windy = 0\n",
    "    \n",
    "        return [fuel, burn, windx, windy, height, burned, flammability] # Hier der Anfangswert-return\n",
    "    \n",
    "    \n",
    "    result = []\n",
    "\n",
    "    pwindx = start\n",
    "    while pwindx <= stop:\n",
    "        \n",
    "        # Hier wird das Gitter erzeugt und die oben definierten Parameter übergeben..\n",
    "        g = Grid(size, size, params, relative_neighbours, transition, initial_field)\n",
    "        \n",
    "        # Läuft mehrere Iterationen durch und gibt das ganze Feld (mit zeitlicher Entwicklung) zurück.\n",
    "        result.append(g.runModel(N))\n",
    "        \n",
    "        pwindx = pwindx + incr\n",
    "    \n",
    "    return result"
   ]
  },
  {
   "cell_type": "code",
   "execution_count": 11,
   "id": "weekly-transparency",
   "metadata": {},
   "outputs": [],
   "source": [
    "def var_windy(size, N, start, stop, incr):\n",
    "    def initial_field(row, col):\n",
    "        fuel = 0.99\n",
    "        flammibility = 0.99\n",
    "        burn = 0\n",
    "        burned = 0\n",
    "        if row == size/2-1 and col == size/2-1: burn = 1\n",
    "    \n",
    "        height = 0\n",
    "        windx = 0\n",
    "        windy = pwindy\n",
    "    \n",
    "        return [fuel, burn, windx, windy, height, burned, flammability] # Hier der Anfangswert-return\n",
    "    \n",
    "    \n",
    "    result = []\n",
    "\n",
    "    pwindy = start\n",
    "    while pwindy <= stop:\n",
    "        \n",
    "        # Hier wird das Gitter erzeugt und die oben definierten Parameter übergeben..\n",
    "        g = Grid(size, size, params, relative_neighbours, transition, initial_field)\n",
    "        \n",
    "        # Läuft mehrere Iterationen durch und gibt das ganze Feld (mit zeitlicher Entwicklung) zurück.\n",
    "        result.append(g.runModel(N))\n",
    "        \n",
    "        pwindy = pwindy + incr\n",
    "        \n",
    "    return result"
   ]
  },
  {
   "cell_type": "code",
   "execution_count": 12,
   "id": "joined-settlement",
   "metadata": {},
   "outputs": [],
   "source": [
    "def var_slope(size, N, start, stop, incr):\n",
    "    def initial_field(row, col):\n",
    "        fuel = 0.99\n",
    "        flammability = 0.99\n",
    "        burn = 0\n",
    "        burned = 0\n",
    "        if row == size/2-1 and col == size/2-1: burn = 1\n",
    "    \n",
    "        height = slope*row\n",
    "        \n",
    "        \n",
    "        windx = 0\n",
    "        windy = 0\n",
    "    \n",
    "        return [fuel, burn, windx, windy, height, burned, flammability] # Hier der Anfangswert-return\n",
    "    \n",
    "    \n",
    "    result = []\n",
    "\n",
    "    slope = start\n",
    "    while slope <= stop:\n",
    "        \n",
    "        # Hier wird das Gitter erzeugt und die oben definierten Parameter übergeben..\n",
    "        g = Grid(size, size, params, relative_neighbours, transition, initial_field)\n",
    "        \n",
    "        # Läuft mehrere Iterationen durch und gibt das ganze Feld (mit zeitlicher Entwicklung) zurück.\n",
    "        result.append(g.runModel(N))\n",
    "        \n",
    "        slope = slope + incr\n",
    "        \n",
    "    return result"
   ]
  },
  {
   "cell_type": "markdown",
   "id": "identified-citation",
   "metadata": {},
   "source": [
    "### Modell auswerten"
   ]
  },
  {
   "cell_type": "code",
   "execution_count": 13,
   "id": "finnish-encoding",
   "metadata": {},
   "outputs": [],
   "source": [
    "# Nimmt ein numpy-array an welches zb. durch g.runModel() erzeugt wird.\n",
    "# Zeichnet das Feld auf bekannte Weise unter angabe des zeitindex.\n",
    "def drawImage(field,index):\n",
    "    plt.imshow(np.stack([field[index,:,:,1],field[index,:,:,0],np.zeros(shape = (field.shape[1], field.shape[2]))], axis = 2))"
   ]
  },
  {
   "cell_type": "code",
   "execution_count": 14,
   "id": "checked-voltage",
   "metadata": {},
   "outputs": [],
   "source": [
    "# Läuft mehrere Iterationen durch und gibt das ganze Feld (mit zeitlicher Entwicklung) zurück.\n",
    "#N = 10\n",
    "#result = g.runModel(N)"
   ]
  },
  {
   "cell_type": "code",
   "execution_count": 15,
   "id": "sexual-crawford",
   "metadata": {},
   "outputs": [],
   "source": [
    "# save data:\n",
    "path = \"data/result_output_vari_r2\""
   ]
  },
  {
   "cell_type": "code",
   "execution_count": 16,
   "id": "multiple-mumbai",
   "metadata": {},
   "outputs": [
    {
     "name": "stdout",
     "output_type": "stream",
     "text": [
      "2%\n",
      "12%\n",
      "22%\n",
      "32%\n",
      "42%\n",
      "52%\n",
      "62%\n",
      "72%\n",
      "82%\n",
      "92%\n"
     ]
    }
   ],
   "source": [
    "io.write(var_fuel(50, 50, 0.9, 1, 0.2), path)"
   ]
  },
  {
   "cell_type": "code",
   "execution_count": 17,
   "id": "beneficial-letters",
   "metadata": {},
   "outputs": [],
   "source": [
    "# Nimmt ein numpy-array an welches zb. durch g.runModel() erzeugt wird.\n",
    "# Zeichnet das Feld auf bekannte Weise unter angabe des zeitindex.\n",
    "def drawImage(field,index):\n",
    "    plt.imshow(np.stack([field[index,:,:,1],field[index,:,:,0],np.zeros(shape = (field.shape[1], field.shape[2]))], axis = 2))"
   ]
  },
  {
   "cell_type": "code",
   "execution_count": 18,
   "id": "viral-cleanup",
   "metadata": {},
   "outputs": [
    {
     "data": {
      "image/png": "[encoded data removed]",
      "text/plain": [
       "<Figure size 432x288 with 1 Axes>"
      ]
     },
     "metadata": {
      "needs_background": "light"
     },
     "output_type": "display_data"
    }
   ],
   "source": [
    "anim.animate(io.read(path)[0], path)"
   ]
  },
  {
   "cell_type": "code",
   "execution_count": null,
   "id": "constitutional-international",
   "metadata": {},
   "outputs": [],
   "source": []
  }
 ],
 "metadata": {
  "kernelspec": {
   "display_name": "Python 3",
   "language": "python",
   "name": "python3"
  },
  "language_info": {
   "codemirror_mode": {
    "name": "ipython",
    "version": 3
   },
   "file_extension": ".py",
   "mimetype": "text/x-python",
   "name": "python",
   "nbconvert_exporter": "python",
   "pygments_lexer": "ipython3",
   "version": "3.6.12"
  }
 },
 "nbformat": 4,
 "nbformat_minor": 5
}
